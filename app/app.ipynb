{
  "cells": [
    {
      "cell_type": "code",
      "execution_count": 1,
      "metadata": {
        "colab": {
          "base_uri": "https://localhost:8080/"
        },
        "id": "dx-AbvxdNX52",
        "outputId": "5e179b9d-4a0d-491b-bd3e-06ec18f4c447"
      },
      "outputs": [
        {
          "output_type": "stream",
          "name": "stdout",
          "text": [
            "Collecting flask-ngrok\n",
            "  Downloading flask_ngrok-0.0.25-py3-none-any.whl.metadata (1.8 kB)\n",
            "Requirement already satisfied: Flask>=0.8 in /usr/local/lib/python3.11/dist-packages (from flask-ngrok) (3.1.1)\n",
            "Requirement already satisfied: requests in /usr/local/lib/python3.11/dist-packages (from flask-ngrok) (2.32.3)\n",
            "Requirement already satisfied: blinker>=1.9.0 in /usr/local/lib/python3.11/dist-packages (from Flask>=0.8->flask-ngrok) (1.9.0)\n",
            "Requirement already satisfied: click>=8.1.3 in /usr/local/lib/python3.11/dist-packages (from Flask>=0.8->flask-ngrok) (8.2.1)\n",
            "Requirement already satisfied: itsdangerous>=2.2.0 in /usr/local/lib/python3.11/dist-packages (from Flask>=0.8->flask-ngrok) (2.2.0)\n",
            "Requirement already satisfied: jinja2>=3.1.2 in /usr/local/lib/python3.11/dist-packages (from Flask>=0.8->flask-ngrok) (3.1.6)\n",
            "Requirement already satisfied: markupsafe>=2.1.1 in /usr/local/lib/python3.11/dist-packages (from Flask>=0.8->flask-ngrok) (3.0.2)\n",
            "Requirement already satisfied: werkzeug>=3.1.0 in /usr/local/lib/python3.11/dist-packages (from Flask>=0.8->flask-ngrok) (3.1.3)\n",
            "Requirement already satisfied: charset-normalizer<4,>=2 in /usr/local/lib/python3.11/dist-packages (from requests->flask-ngrok) (3.4.2)\n",
            "Requirement already satisfied: idna<4,>=2.5 in /usr/local/lib/python3.11/dist-packages (from requests->flask-ngrok) (3.10)\n",
            "Requirement already satisfied: urllib3<3,>=1.21.1 in /usr/local/lib/python3.11/dist-packages (from requests->flask-ngrok) (2.5.0)\n",
            "Requirement already satisfied: certifi>=2017.4.17 in /usr/local/lib/python3.11/dist-packages (from requests->flask-ngrok) (2025.7.14)\n",
            "Downloading flask_ngrok-0.0.25-py3-none-any.whl (3.1 kB)\n",
            "Installing collected packages: flask-ngrok\n",
            "Successfully installed flask-ngrok-0.0.25\n"
          ]
        }
      ],
      "source": [
        "!pip install flask-ngrok"
      ]
    },
    {
      "cell_type": "code",
      "source": [
        "!pip install flask-ngrok\n",
        "\n",
        "import os\n",
        "\n",
        "os.makedirs('/content/templates', exist_ok=True)\n",
        "\n",
        "with open('/content/templates/form.html', 'w') as f:\n",
        "    f.write(\"\"\"\n",
        "    <!DOCTYPE html>\n",
        "    <html>\n",
        "    <head><title>Form</title></head>\n",
        "    <body>\n",
        "        <h2>Enter something</h2>\n",
        "        <form method=\"POST\">\n",
        "            <input type=\"text\" name=\"input\" />\n",
        "            <button type=\"submit\">Submit</button>\n",
        "        </form>\n",
        "    </body>\n",
        "    </html>\n",
        "    \"\"\")\n",
        "\n",
        "!pip install pyngrok\n",
        "\n",
        "from pyngrok import ngrok\n",
        "\n",
        "from flask import Flask, render_template, request\n",
        "from pyngrok import ngrok, conf\n",
        "import numpy as np\n",
        "import joblib\n",
        "\n",
        "conf.get_default().auth_token = \"309QUeFfVUcyRJAqb8I86BTIgR4_6NEHWbB7zVa4gT3K56Ww6\"\n",
        "\n",
        "app = Flask(__name__, template_folder='/content/templates')\n",
        "model = joblib.load(\"final_model.pkl\")\n",
        "\n",
        "@app.route('/', methods=['GET', 'POST'])\n",
        "def form():\n",
        "    if request.method == 'POST':\n",
        "        user_input = request.form['input']\n",
        "        return f\"You entered: {user_input}\"\n",
        "    return render_template('form.html')\n",
        "\n",
        "def home():\n",
        "    return render_template('form.html')\n",
        "\n",
        "@app.route('/predict', methods=['POST'])\n",
        "def predict():\n",
        "    feature1 = float(request.form['feature1'])\n",
        "    feature2 = float(request.form['feature2'])\n",
        "    input_data = np.array([[feature1, feature2]])\n",
        "    prediction = model.predict(input_data)\n",
        "    return render_template('form.html', prediction_text=f\"Estimated Salary: ${prediction[0]:,.2f}\")\n",
        "\n",
        "\n",
        "public_url = ngrok.connect(5000)\n",
        "print(\"Public URL:\", public_url)\n",
        "\n",
        "app.run()"
      ],
      "metadata": {
        "colab": {
          "base_uri": "https://localhost:8080/"
        },
        "id": "6Es1u4E4K2DB",
        "outputId": "bd5a4811-a0fb-42bb-f221-f5dbdabbe6fc"
      },
      "execution_count": 3,
      "outputs": [
        {
          "output_type": "stream",
          "name": "stdout",
          "text": [
            "Requirement already satisfied: flask-ngrok in /usr/local/lib/python3.11/dist-packages (0.0.25)\n",
            "Requirement already satisfied: Flask>=0.8 in /usr/local/lib/python3.11/dist-packages (from flask-ngrok) (3.1.1)\n",
            "Requirement already satisfied: requests in /usr/local/lib/python3.11/dist-packages (from flask-ngrok) (2.32.3)\n",
            "Requirement already satisfied: blinker>=1.9.0 in /usr/local/lib/python3.11/dist-packages (from Flask>=0.8->flask-ngrok) (1.9.0)\n",
            "Requirement already satisfied: click>=8.1.3 in /usr/local/lib/python3.11/dist-packages (from Flask>=0.8->flask-ngrok) (8.2.1)\n",
            "Requirement already satisfied: itsdangerous>=2.2.0 in /usr/local/lib/python3.11/dist-packages (from Flask>=0.8->flask-ngrok) (2.2.0)\n",
            "Requirement already satisfied: jinja2>=3.1.2 in /usr/local/lib/python3.11/dist-packages (from Flask>=0.8->flask-ngrok) (3.1.6)\n",
            "Requirement already satisfied: markupsafe>=2.1.1 in /usr/local/lib/python3.11/dist-packages (from Flask>=0.8->flask-ngrok) (3.0.2)\n",
            "Requirement already satisfied: werkzeug>=3.1.0 in /usr/local/lib/python3.11/dist-packages (from Flask>=0.8->flask-ngrok) (3.1.3)\n",
            "Requirement already satisfied: charset-normalizer<4,>=2 in /usr/local/lib/python3.11/dist-packages (from requests->flask-ngrok) (3.4.2)\n",
            "Requirement already satisfied: idna<4,>=2.5 in /usr/local/lib/python3.11/dist-packages (from requests->flask-ngrok) (3.10)\n",
            "Requirement already satisfied: urllib3<3,>=1.21.1 in /usr/local/lib/python3.11/dist-packages (from requests->flask-ngrok) (2.5.0)\n",
            "Requirement already satisfied: certifi>=2017.4.17 in /usr/local/lib/python3.11/dist-packages (from requests->flask-ngrok) (2025.7.14)\n",
            "Requirement already satisfied: pyngrok in /usr/local/lib/python3.11/dist-packages (7.2.12)\n",
            "Requirement already satisfied: PyYAML>=5.1 in /usr/local/lib/python3.11/dist-packages (from pyngrok) (6.0.2)\n",
            "Public URL: NgrokTunnel: \"https://89a47d0b6392.ngrok-free.app\" -> \"http://localhost:5000\"\n",
            " * Serving Flask app '__main__'\n",
            " * Debug mode: off\n"
          ]
        },
        {
          "output_type": "stream",
          "name": "stderr",
          "text": [
            "INFO:werkzeug:\u001b[31m\u001b[1mWARNING: This is a development server. Do not use it in a production deployment. Use a production WSGI server instead.\u001b[0m\n",
            " * Running on http://127.0.0.1:5000\n",
            "INFO:werkzeug:\u001b[33mPress CTRL+C to quit\u001b[0m\n",
            "INFO:werkzeug:127.0.0.1 - - [26/Jul/2025 18:45:47] \"GET / HTTP/1.1\" 200 -\n",
            "INFO:werkzeug:127.0.0.1 - - [26/Jul/2025 18:45:47] \"\u001b[33mGET /favicon.ico HTTP/1.1\u001b[0m\" 404 -\n",
            "INFO:werkzeug:127.0.0.1 - - [26/Jul/2025 18:45:53] \"POST / HTTP/1.1\" 200 -\n"
          ]
        }
      ]
    },
    {
      "cell_type": "code",
      "source": [
        "from flask import Flask, request, render_template_string\n",
        "from pyngrok import ngrok\n",
        "\n",
        "app = Flask(__name__)\n",
        "\n",
        "html_form = \"\"\"\n",
        "<!DOCTYPE html>\n",
        "<html lang=\"en\">\n",
        "<head>\n",
        "    <meta charset=\"UTF-8\">\n",
        "    <title>Salary Predictor</title>\n",
        "    <!-- Bootstrap CDN -->\n",
        "    <link href=\"https://cdn.jsdelivr.net/npm/bootstrap@5.3.0/dist/css/bootstrap.min.css\" rel=\"stylesheet\">\n",
        "</head>\n",
        "<body class=\"bg-light\">\n",
        "    <div class=\"container mt-5\">\n",
        "        <div class=\"row justify-content-center\">\n",
        "            <div class=\"col-md-6 col-sm-10\">\n",
        "                <div class=\"card shadow-lg\">\n",
        "                    <div class=\"card-body\">\n",
        "                        <h3 class=\"card-title text-center mb-4\">💼 Salary Predictor</h3>\n",
        "                        <form method=\"POST\" action=\"/predict\">\n",
        "                            <div class=\"mb-3\">\n",
        "                                <label for=\"feature1\" class=\"form-label\">Years of Experience</label>\n",
        "                                <input type=\"number\" class=\"form-control\" id=\"feature1\" name=\"feature1\" step=\"any\" required>\n",
        "                            </div>\n",
        "                            <div class=\"mb-3\">\n",
        "                                <label for=\"feature2\" class=\"form-label\">Skill Score</label>\n",
        "                                <input type=\"number\" class=\"form-control\" id=\"feature2\" name=\"feature2\" step=\"any\" required>\n",
        "                            </div>\n",
        "                            <div class=\"d-grid\">\n",
        "                                <button type=\"submit\" class=\"btn btn-primary\">Predict</button>\n",
        "                            </div>\n",
        "                        </form>\n",
        "                        {% if prediction_text %}\n",
        "                            <div class=\"alert alert-info text-center mt-4\" role=\"alert\">\n",
        "                                {{ prediction_text }}\n",
        "                            </div>\n",
        "                        {% endif %}\n",
        "                    </div>\n",
        "                </div>\n",
        "            </div>\n",
        "        </div>\n",
        "    </div>\n",
        "</body>\n",
        "</html>\n",
        "\"\"\"\n",
        "\n",
        "@app.route('/', methods=['GET'])\n",
        "def home():\n",
        "    return render_template_string(html_form)\n",
        "\n",
        "@app.route('/predict', methods=['POST'])\n",
        "def predict():\n",
        "    try:\n",
        "        feature1 = request.form['feature1'].strip()\n",
        "        feature2 = request.form['feature2'].strip()\n",
        "\n",
        "        if not feature1 or not feature2:\n",
        "            return render_template_string(html_form, prediction_text=\"Please fill out both fields.\")\n",
        "\n",
        "        f1 = float(feature1)\n",
        "        f2 = float(feature2)\n",
        "\n",
        "        if f1 < 0 or f2 < 0:\n",
        "            return render_template_string(html_form, prediction_text=\"Negative values not allowed.\")\n",
        "\n",
        "        result = f1 * 1000 + f2 * 2000\n",
        "        return render_template_string(html_form, prediction_text=f'Predicted Salary: ₹{result:,.2f}')\n",
        "\n",
        "    except ValueError:\n",
        "        return render_template_string(html_form, prediction_text=\"Enter valid numbers.\")\n",
        "\n",
        "\n",
        "\n",
        "public_url = ngrok.connect(5000)\n",
        "print(\" * Ngrok URL:\", public_url)\n",
        "\n",
        "app.run(port=5000)\n",
        "\n",
        "\n",
        "\n"
      ],
      "metadata": {
        "colab": {
          "base_uri": "https://localhost:8080/"
        },
        "id": "uxtmapl-2ZAb",
        "outputId": "3511762a-0d7e-4baf-b471-7aaeba07e33c"
      },
      "execution_count": 14,
      "outputs": [
        {
          "output_type": "stream",
          "name": "stdout",
          "text": [
            " * Ngrok URL: NgrokTunnel: \"https://3db272dae734.ngrok-free.app\" -> \"http://localhost:5000\"\n",
            " * Serving Flask app '__main__'\n",
            " * Debug mode: off\n"
          ]
        },
        {
          "output_type": "stream",
          "name": "stderr",
          "text": [
            "INFO:werkzeug:\u001b[31m\u001b[1mWARNING: This is a development server. Do not use it in a production deployment. Use a production WSGI server instead.\u001b[0m\n",
            " * Running on http://127.0.0.1:5000\n",
            "INFO:werkzeug:\u001b[33mPress CTRL+C to quit\u001b[0m\n",
            "INFO:werkzeug:127.0.0.1 - - [26/Jul/2025 19:04:02] \"GET / HTTP/1.1\" 200 -\n",
            "INFO:werkzeug:127.0.0.1 - - [26/Jul/2025 19:04:03] \"\u001b[33mGET /favicon.ico HTTP/1.1\u001b[0m\" 404 -\n",
            "INFO:werkzeug:127.0.0.1 - - [26/Jul/2025 19:04:22] \"POST /predict HTTP/1.1\" 200 -\n",
            "WARNING:pyngrok.process.ngrok:t=2025-07-26T19:05:00+0000 lvl=warn msg=\"Stopping forwarder\" name=http-5000-172a9390-0451-404a-830b-3eb74c3972b6 acceptErr=\"failed to accept connection: Listener closed\"\n",
            "WARNING:pyngrok.process.ngrok:t=2025-07-26T19:05:00+0000 lvl=warn msg=\"Error restarting forwarder\" name=http-5000-172a9390-0451-404a-830b-3eb74c3972b6 err=\"failed to start tunnel: session closed\"\n"
          ]
        }
      ]
    }
  ],
  "metadata": {
    "colab": {
      "provenance": []
    },
    "kernelspec": {
      "display_name": "Python 3",
      "name": "python3"
    },
    "language_info": {
      "name": "python"
    }
  },
  "nbformat": 4,
  "nbformat_minor": 0
}